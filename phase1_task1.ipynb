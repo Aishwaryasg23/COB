{
 "cells": [
  {
   "cell_type": "code",
   "execution_count": 4,
   "id": "2c20503e-24eb-4a8c-9c5d-4b9b3182b5a5",
   "metadata": {},
   "outputs": [
    {
     "name": "stdout",
     "output_type": "stream",
     "text": [
      "the CSV file is created successfully\n"
     ]
    }
   ],
   "source": [
    "import requests\n",
    "import pandas as pd\n",
    "\n",
    "response=requests.get(\"https://www.binance.com/api/v3/ticker/bookTicker\")\n",
    "if response.status_code==200:\n",
    "    data=response.json()\n",
    "    df=pd.DataFrame(data)\n",
    "    df.to_csv(\"dataSet1_outputfile.csv\",index=False)\n",
    "    print(\"the CSV file is created successfully\")\n",
    "else:\n",
    "    print(\"The CSV file is not created\")\n"
   ]
  },
  {
   "cell_type": "code",
   "execution_count": null,
   "id": "e3c47456-2d85-4176-9185-cd0b164bbd08",
   "metadata": {},
   "outputs": [],
   "source": []
  }
 ],
 "metadata": {
  "kernelspec": {
   "display_name": "Python 3 (ipykernel)",
   "language": "python",
   "name": "python3"
  },
  "language_info": {
   "codemirror_mode": {
    "name": "ipython",
    "version": 3
   },
   "file_extension": ".py",
   "mimetype": "text/x-python",
   "name": "python",
   "nbconvert_exporter": "python",
   "pygments_lexer": "ipython3",
   "version": "3.12.0"
  }
 },
 "nbformat": 4,
 "nbformat_minor": 5
}
